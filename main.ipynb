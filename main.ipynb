{
 "cells": [
  {
   "cell_type": "code",
   "execution_count": 1,
   "metadata": {},
   "outputs": [
    {
     "name": "stderr",
     "output_type": "stream",
     "text": [
      "Using TensorFlow backend.\n"
     ]
    }
   ],
   "source": [
    "from models import deep_cnn\n",
    "\n",
    "import os\n",
    "import numpy as np\n",
    "import pandas as pd\n",
    "import random\n",
    "    \n",
    "from glob import glob\n",
    "from scipy.io import wavfile\n",
    "from scipy.signal import stft\n",
    "\n",
    "from sklearn.metrics import accuracy_score\n",
    "from keras.callbacks import EarlyStopping\n",
    "from keras.models import Sequential\n",
    "from dataset import DatasetGenerator"
   ]
  },
  {
   "cell_type": "code",
   "execution_count": 2,
   "metadata": {},
   "outputs": [],
   "source": [
    "DIR = 'input' # veri seti konumu"
   ]
  },
  {
   "cell_type": "code",
   "execution_count": 3,
   "metadata": {},
   "outputs": [],
   "source": [
    "INPUT_SHAPE = (177,98,1)\n",
    "BATCH = 32 #bir seferde ağda işlenecek veri sayısıdır.\n",
    "EPOCHS = 15 #veri setinin kaç kere ağdan geçirileceğidir\n",
    "#hangi kelimelerin eğitileceği. sıralamaya göre id verilir; yes0 no 1 şeklinde.\n",
    "LABELS = 'yes no'.split()\n",
    "NUM_CLASSES = len(LABELS)"
   ]
  },
  {
   "cell_type": "raw",
   "metadata": {},
   "source": [
    "# ==============================================================================\n",
    "# Veriyi Hazırlama\n",
    "#=============================================================================="
   ]
  },
  {
   "cell_type": "code",
   "execution_count": 4,
   "metadata": {},
   "outputs": [],
   "source": [
    "dsGen = DatasetGenerator(label_set=LABELS)"
   ]
  },
  {
   "cell_type": "code",
   "execution_count": 5,
   "metadata": {},
   "outputs": [],
   "source": [
    "# veriler okunuyor. label:kelime, label_id:kelimenin idsi, user_id: dosyanın adı, wav_file:dosyanın konumu\n",
    "df = dsGen.load_data(DIR)"
   ]
  },
  {
   "cell_type": "code",
   "execution_count": 6,
   "metadata": {},
   "outputs": [],
   "source": [
    "dsGen.apply_train_test_split(test_size=0.3, random_state=2018)\n",
    "dsGen.apply_train_val_split(val_size=0.2, random_state=2018)"
   ]
  },
  {
   "cell_type": "raw",
   "metadata": {},
   "source": [
    "#==============================================================================\n",
    "# Train\n",
    "#=============================================================================="
   ]
  },
  {
   "cell_type": "code",
   "execution_count": 7,
   "metadata": {},
   "outputs": [
    {
     "name": "stdout",
     "output_type": "stream",
     "text": [
      "WARNING:tensorflow:From /usr/local/anaconda/lib/python3.7/site-packages/tensorflow/python/framework/op_def_library.py:263: colocate_with (from tensorflow.python.framework.ops) is deprecated and will be removed in a future version.\n",
      "Instructions for updating:\n",
      "Colocations handled automatically by placer.\n",
      "WARNING:tensorflow:From /usr/local/anaconda/lib/python3.7/site-packages/keras/backend/tensorflow_backend.py:3445: calling dropout (from tensorflow.python.ops.nn_ops) with keep_prob is deprecated and will be removed in a future version.\n",
      "Instructions for updating:\n",
      "Please use `rate` instead of `keep_prob`. Rate should be set to `rate = 1 - keep_prob`.\n"
     ]
    }
   ],
   "source": [
    "model = deep_cnn(INPUT_SHAPE, NUM_CLASSES)\n",
    "#Adam default  değerleri (lr=0.001, beta_1=0.9, beta_2=0.999, epsilon=1e-08)"
   ]
  },
  {
   "cell_type": "code",
   "execution_count": 8,
   "metadata": {},
   "outputs": [],
   "source": [
    "model.compile(optimizer='Adam', loss='categorical_crossentropy', metrics=['acc'])"
   ]
  },
  {
   "cell_type": "code",
   "execution_count": 9,
   "metadata": {},
   "outputs": [],
   "source": [
    "callbacks = [EarlyStopping(monitor='val_acc', patience=4, verbose=1, mode='max')]"
   ]
  },
  {
   "cell_type": "code",
   "execution_count": 10,
   "metadata": {},
   "outputs": [
    {
     "name": "stdout",
     "output_type": "stream",
     "text": [
      "WARNING:tensorflow:From /usr/local/anaconda/lib/python3.7/site-packages/tensorflow/python/ops/math_ops.py:3066: to_int32 (from tensorflow.python.ops.math_ops) is deprecated and will be removed in a future version.\n",
      "Instructions for updating:\n",
      "Use tf.cast instead.\n",
      "Epoch 1/15\n",
      "84/84 [==============================] - 63s 755ms/step - loss: 0.3068 - acc: 0.8743 - val_loss: 0.2551 - val_acc: 0.8949\n",
      "Epoch 2/15\n",
      "84/84 [==============================] - 43s 511ms/step - loss: 0.1486 - acc: 0.9416 - val_loss: 0.7221 - val_acc: 0.7117\n",
      "Epoch 3/15\n",
      "84/84 [==============================] - 43s 515ms/step - loss: 0.1493 - acc: 0.9487 - val_loss: 0.2270 - val_acc: 0.9054\n",
      "Epoch 4/15\n",
      "84/84 [==============================] - 44s 520ms/step - loss: 0.1863 - acc: 0.9290 - val_loss: 0.4082 - val_acc: 0.8604\n",
      "Epoch 5/15\n",
      "84/84 [==============================] - 44s 521ms/step - loss: 0.1307 - acc: 0.9491 - val_loss: 0.1583 - val_acc: 0.9535\n",
      "Epoch 6/15\n",
      "84/84 [==============================] - 44s 524ms/step - loss: 0.0956 - acc: 0.9628 - val_loss: 1.0023 - val_acc: 0.6306\n",
      "Epoch 7/15\n",
      "84/84 [==============================] - 44s 519ms/step - loss: 0.0664 - acc: 0.9747 - val_loss: 0.4136 - val_acc: 0.8408\n",
      "Epoch 8/15\n",
      "84/84 [==============================] - 44s 519ms/step - loss: 0.0594 - acc: 0.9784 - val_loss: 0.0886 - val_acc: 0.9715\n",
      "Epoch 9/15\n",
      "84/84 [==============================] - 44s 523ms/step - loss: 0.0545 - acc: 0.9807 - val_loss: 0.0743 - val_acc: 0.9730\n",
      "Epoch 10/15\n",
      "84/84 [==============================] - 44s 528ms/step - loss: 0.0601 - acc: 0.9825 - val_loss: 0.1048 - val_acc: 0.9625\n",
      "Epoch 11/15\n",
      "84/84 [==============================] - 45s 533ms/step - loss: 0.0369 - acc: 0.9892 - val_loss: 0.1452 - val_acc: 0.9489\n",
      "Epoch 12/15\n",
      "84/84 [==============================] - 45s 535ms/step - loss: 0.0352 - acc: 0.9885 - val_loss: 0.3139 - val_acc: 0.8889\n",
      "Epoch 13/15\n",
      "84/84 [==============================] - 45s 541ms/step - loss: 0.0267 - acc: 0.9914 - val_loss: 0.1083 - val_acc: 0.9670\n",
      "Epoch 00013: early stopping\n"
     ]
    }
   ],
   "source": [
    "history = model.fit_generator(generator=dsGen.generator(BATCH, mode='train'),\n",
    "                              steps_per_epoch=int(np.ceil(len(dsGen.df_train)/BATCH)),\n",
    "                              epochs=EPOCHS,\n",
    "                              verbose=1,\n",
    "                              callbacks=callbacks,\n",
    "                              validation_data=dsGen.generator(BATCH, mode='val'),\n",
    "                              validation_steps=int(np.ceil(len(dsGen.df_val)/BATCH)))"
   ]
  },
  {
   "cell_type": "code",
   "execution_count": null,
   "metadata": {},
   "outputs": [],
   "source": [
    "y_pred_proba = model.predict_generator(dsGen.generator(BATCH, mode='test'),\n",
    "                                     int(np.ceil(len(dsGen.df_test)/BATCH)),\n",
    "                                     verbose=1)"
   ]
  },
  {
   "cell_type": "code",
   "execution_count": null,
   "metadata": {},
   "outputs": [],
   "source": [
    "y_pred = np.argmax(y_pred_proba, axis=1)"
   ]
  },
  {
   "cell_type": "code",
   "execution_count": null,
   "metadata": {},
   "outputs": [],
   "source": [
    "y_true = dsGen.df_test['label_id'].values"
   ]
  },
  {
   "cell_type": "code",
   "execution_count": null,
   "metadata": {},
   "outputs": [],
   "source": [
    "dsGen.df_test"
   ]
  },
  {
   "cell_type": "code",
   "execution_count": null,
   "metadata": {},
   "outputs": [],
   "source": [
    "y_true"
   ]
  },
  {
   "cell_type": "code",
   "execution_count": null,
   "metadata": {},
   "outputs": [],
   "source": [
    "acc_score = accuracy_score(y_true, y_pred)"
   ]
  },
  {
   "cell_type": "code",
   "execution_count": null,
   "metadata": {},
   "outputs": [],
   "source": [
    "acc_score"
   ]
  },
  {
   "cell_type": "code",
   "execution_count": null,
   "metadata": {},
   "outputs": [],
   "source": [
    "print(\"gercek\")\n",
    "for g in y_true:\n",
    "    print(g,end=\", \")\n",
    "print(\"\\n\")\n",
    "print(\"tahmin\")\n",
    "for t in y_pred:\n",
    "    print(t ,end=\", \")\n",
    "\n",
    "print(\"\\n\")\n",
    "\n",
    "print(\"accuracy(doğruluk):\")\n",
    "print(acc_score)"
   ]
  },
  {
   "cell_type": "markdown",
   "metadata": {},
   "source": [
    "------------------------------------------------"
   ]
  },
  {
   "cell_type": "code",
   "execution_count": 59,
   "metadata": {},
   "outputs": [],
   "source": [
    "TEST_DIR = \"test_input\""
   ]
  },
  {
   "cell_type": "code",
   "execution_count": 70,
   "metadata": {},
   "outputs": [],
   "source": [
    "def get_test_data(test_wav_file):\n",
    "    X_batch = []\n",
    "    for file in test_wav_file:\n",
    "        X_batch.append(dsGen.process_wav_file(file))\n",
    "    X_batch = np.array(X_batch)\n",
    "    yield X_batch"
   ]
  },
  {
   "cell_type": "code",
   "execution_count": 71,
   "metadata": {},
   "outputs": [],
   "source": [
    "wav_files = glob(os.path.join(TEST_DIR, '*wav'))"
   ]
  },
  {
   "cell_type": "code",
   "execution_count": 72,
   "metadata": {},
   "outputs": [
    {
     "name": "stdout",
     "output_type": "stream",
     "text": [
      "\r",
      "1/1 [==============================] - 0s 24ms/step\n"
     ]
    }
   ],
   "source": [
    "y_pred_proba = model.predict_generator(get_test_data(wav_files),\n",
    "                                     int(np.ceil(len(dsGen.df_test)/BATCH)),\n",
    "                                     verbose=1)"
   ]
  },
  {
   "cell_type": "code",
   "execution_count": 73,
   "metadata": {},
   "outputs": [],
   "source": [
    "y_pred = np.argmax(y_pred_proba, axis=1)"
   ]
  },
  {
   "cell_type": "code",
   "execution_count": 77,
   "metadata": {},
   "outputs": [
    {
     "data": {
      "text/plain": [
       "array([1, 0])"
      ]
     },
     "execution_count": 77,
     "metadata": {},
     "output_type": "execute_result"
    }
   ],
   "source": [
    "y_pred"
   ]
  },
  {
   "cell_type": "code",
   "execution_count": 75,
   "metadata": {},
   "outputs": [
    {
     "data": {
      "text/plain": [
       "['test_input/0bd689d7_nohash_1.wav', 'test_input/0bd689d7_nohash_0.wav']"
      ]
     },
     "execution_count": 75,
     "metadata": {},
     "output_type": "execute_result"
    }
   ],
   "source": [
    "wav_files"
   ]
  }
 ],
 "metadata": {
  "kernelspec": {
   "display_name": "Python 3",
   "language": "python",
   "name": "python3"
  },
  "language_info": {
   "codemirror_mode": {
    "name": "ipython",
    "version": 3
   },
   "file_extension": ".py",
   "mimetype": "text/x-python",
   "name": "python",
   "nbconvert_exporter": "python",
   "pygments_lexer": "ipython3",
   "version": "3.7.1"
  }
 },
 "nbformat": 4,
 "nbformat_minor": 2
}
